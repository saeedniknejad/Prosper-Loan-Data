{
 "cells": [
  {
   "cell_type": "markdown",
   "metadata": {},
   "source": [
    "This data set contains 113,937 loans with 81 variables on each loan, including loan amount, borrower rate (or interest rate), current loan status, borrower income, and many others.\n",
    "This data dictionary explains the variables in the data set. You are not expected to explore all of the variables in the dataset! Focus your exploration on about 10-15 of them.\n",
    "\n",
    "**Questions:**\n",
    "\n",
    "- What factors affect a loan’s outcome status?\n",
    "- What affects the borrower’s APR or interest rate?\n",
    "- Are there differences between loans depending on how large the original loan amount was?\n"
   ]
  },
  {
   "cell_type": "code",
   "execution_count": 264,
   "metadata": {},
   "outputs": [],
   "source": [
    "import pandas as pd\n",
    "import matplotlib.pyplot as plt\n",
    "import seaborn as sns\n",
    "import statsmodels.api as sm\n",
    "%matplotlib inline"
   ]
  },
  {
   "cell_type": "code",
   "execution_count": 36,
   "metadata": {},
   "outputs": [
    {
     "name": "stdout",
     "output_type": "stream",
     "text": [
      "<class 'pandas.core.frame.DataFrame'>\n",
      "RangeIndex: 113937 entries, 0 to 113936\n",
      "Data columns (total 81 columns):\n",
      "ListingKey                             113937 non-null object\n",
      "ListingNumber                          113937 non-null int64\n",
      "ListingCreationDate                    113937 non-null object\n",
      "CreditGrade                            28953 non-null object\n",
      "Term                                   113937 non-null int64\n",
      "LoanStatus                             113937 non-null object\n",
      "ClosedDate                             55089 non-null object\n",
      "BorrowerAPR                            113912 non-null float64\n",
      "BorrowerRate                           113937 non-null float64\n",
      "LenderYield                            113937 non-null float64\n",
      "EstimatedEffectiveYield                84853 non-null float64\n",
      "EstimatedLoss                          84853 non-null float64\n",
      "EstimatedReturn                        84853 non-null float64\n",
      "ProsperRating (numeric)                84853 non-null float64\n",
      "ProsperRating (Alpha)                  84853 non-null object\n",
      "ProsperScore                           84853 non-null float64\n",
      "ListingCategory (numeric)              113937 non-null int64\n",
      "BorrowerState                          108422 non-null object\n",
      "Occupation                             110349 non-null object\n",
      "EmploymentStatus                       111682 non-null object\n",
      "EmploymentStatusDuration               106312 non-null float64\n",
      "IsBorrowerHomeowner                    113937 non-null bool\n",
      "CurrentlyInGroup                       113937 non-null bool\n",
      "GroupKey                               13341 non-null object\n",
      "DateCreditPulled                       113937 non-null object\n",
      "CreditScoreRangeLower                  113346 non-null float64\n",
      "CreditScoreRangeUpper                  113346 non-null float64\n",
      "FirstRecordedCreditLine                113240 non-null object\n",
      "CurrentCreditLines                     106333 non-null float64\n",
      "OpenCreditLines                        106333 non-null float64\n",
      "TotalCreditLinespast7years             113240 non-null float64\n",
      "OpenRevolvingAccounts                  113937 non-null int64\n",
      "OpenRevolvingMonthlyPayment            113937 non-null float64\n",
      "InquiriesLast6Months                   113240 non-null float64\n",
      "TotalInquiries                         112778 non-null float64\n",
      "CurrentDelinquencies                   113240 non-null float64\n",
      "AmountDelinquent                       106315 non-null float64\n",
      "DelinquenciesLast7Years                112947 non-null float64\n",
      "PublicRecordsLast10Years               113240 non-null float64\n",
      "PublicRecordsLast12Months              106333 non-null float64\n",
      "RevolvingCreditBalance                 106333 non-null float64\n",
      "BankcardUtilization                    106333 non-null float64\n",
      "AvailableBankcardCredit                106393 non-null float64\n",
      "TotalTrades                            106393 non-null float64\n",
      "TradesNeverDelinquent (percentage)     106393 non-null float64\n",
      "TradesOpenedLast6Months                106393 non-null float64\n",
      "DebtToIncomeRatio                      105383 non-null float64\n",
      "IncomeRange                            113937 non-null object\n",
      "IncomeVerifiable                       113937 non-null bool\n",
      "StatedMonthlyIncome                    113937 non-null float64\n",
      "LoanKey                                113937 non-null object\n",
      "TotalProsperLoans                      22085 non-null float64\n",
      "TotalProsperPaymentsBilled             22085 non-null float64\n",
      "OnTimeProsperPayments                  22085 non-null float64\n",
      "ProsperPaymentsLessThanOneMonthLate    22085 non-null float64\n",
      "ProsperPaymentsOneMonthPlusLate        22085 non-null float64\n",
      "ProsperPrincipalBorrowed               22085 non-null float64\n",
      "ProsperPrincipalOutstanding            22085 non-null float64\n",
      "ScorexChangeAtTimeOfListing            18928 non-null float64\n",
      "LoanCurrentDaysDelinquent              113937 non-null int64\n",
      "LoanFirstDefaultedCycleNumber          16952 non-null float64\n",
      "LoanMonthsSinceOrigination             113937 non-null int64\n",
      "LoanNumber                             113937 non-null int64\n",
      "LoanOriginalAmount                     113937 non-null int64\n",
      "LoanOriginationDate                    113937 non-null object\n",
      "LoanOriginationQuarter                 113937 non-null object\n",
      "MemberKey                              113937 non-null object\n",
      "MonthlyLoanPayment                     113937 non-null float64\n",
      "LP_CustomerPayments                    113937 non-null float64\n",
      "LP_CustomerPrincipalPayments           113937 non-null float64\n",
      "LP_InterestandFees                     113937 non-null float64\n",
      "LP_ServiceFees                         113937 non-null float64\n",
      "LP_CollectionFees                      113937 non-null float64\n",
      "LP_GrossPrincipalLoss                  113937 non-null float64\n",
      "LP_NetPrincipalLoss                    113937 non-null float64\n",
      "LP_NonPrincipalRecoverypayments        113937 non-null float64\n",
      "PercentFunded                          113937 non-null float64\n",
      "Recommendations                        113937 non-null int64\n",
      "InvestmentFromFriendsCount             113937 non-null int64\n",
      "InvestmentFromFriendsAmount            113937 non-null float64\n",
      "Investors                              113937 non-null int64\n",
      "dtypes: bool(3), float64(50), int64(11), object(17)\n",
      "memory usage: 68.1+ MB\n"
     ]
    }
   ],
   "source": [
    "df_loan = pd.read_csv('prosperLoanData.csv')\n",
    "df_loan.info()"
   ]
  },
  {
   "cell_type": "code",
   "execution_count": 37,
   "metadata": {},
   "outputs": [
    {
     "data": {
      "text/html": [
       "<div>\n",
       "<style scoped>\n",
       "    .dataframe tbody tr th:only-of-type {\n",
       "        vertical-align: middle;\n",
       "    }\n",
       "\n",
       "    .dataframe tbody tr th {\n",
       "        vertical-align: top;\n",
       "    }\n",
       "\n",
       "    .dataframe thead th {\n",
       "        text-align: right;\n",
       "    }\n",
       "</style>\n",
       "<table border=\"1\" class=\"dataframe\">\n",
       "  <thead>\n",
       "    <tr style=\"text-align: right;\">\n",
       "      <th></th>\n",
       "      <th>ListingKey</th>\n",
       "      <th>ListingNumber</th>\n",
       "      <th>ListingCreationDate</th>\n",
       "      <th>CreditGrade</th>\n",
       "      <th>Term</th>\n",
       "      <th>LoanStatus</th>\n",
       "      <th>ClosedDate</th>\n",
       "      <th>BorrowerAPR</th>\n",
       "      <th>BorrowerRate</th>\n",
       "      <th>LenderYield</th>\n",
       "      <th>...</th>\n",
       "      <th>LP_ServiceFees</th>\n",
       "      <th>LP_CollectionFees</th>\n",
       "      <th>LP_GrossPrincipalLoss</th>\n",
       "      <th>LP_NetPrincipalLoss</th>\n",
       "      <th>LP_NonPrincipalRecoverypayments</th>\n",
       "      <th>PercentFunded</th>\n",
       "      <th>Recommendations</th>\n",
       "      <th>InvestmentFromFriendsCount</th>\n",
       "      <th>InvestmentFromFriendsAmount</th>\n",
       "      <th>Investors</th>\n",
       "    </tr>\n",
       "  </thead>\n",
       "  <tbody>\n",
       "    <tr>\n",
       "      <th>0</th>\n",
       "      <td>1021339766868145413AB3B</td>\n",
       "      <td>193129</td>\n",
       "      <td>2007-08-26 19:09:29.263000000</td>\n",
       "      <td>C</td>\n",
       "      <td>36</td>\n",
       "      <td>Completed</td>\n",
       "      <td>2009-08-14 00:00:00</td>\n",
       "      <td>0.16516</td>\n",
       "      <td>0.1580</td>\n",
       "      <td>0.1380</td>\n",
       "      <td>...</td>\n",
       "      <td>-133.18</td>\n",
       "      <td>0.0</td>\n",
       "      <td>0.0</td>\n",
       "      <td>0.0</td>\n",
       "      <td>0.0</td>\n",
       "      <td>1.0</td>\n",
       "      <td>0</td>\n",
       "      <td>0</td>\n",
       "      <td>0.0</td>\n",
       "      <td>258</td>\n",
       "    </tr>\n",
       "    <tr>\n",
       "      <th>1</th>\n",
       "      <td>10273602499503308B223C1</td>\n",
       "      <td>1209647</td>\n",
       "      <td>2014-02-27 08:28:07.900000000</td>\n",
       "      <td>NaN</td>\n",
       "      <td>36</td>\n",
       "      <td>Current</td>\n",
       "      <td>NaN</td>\n",
       "      <td>0.12016</td>\n",
       "      <td>0.0920</td>\n",
       "      <td>0.0820</td>\n",
       "      <td>...</td>\n",
       "      <td>0.00</td>\n",
       "      <td>0.0</td>\n",
       "      <td>0.0</td>\n",
       "      <td>0.0</td>\n",
       "      <td>0.0</td>\n",
       "      <td>1.0</td>\n",
       "      <td>0</td>\n",
       "      <td>0</td>\n",
       "      <td>0.0</td>\n",
       "      <td>1</td>\n",
       "    </tr>\n",
       "    <tr>\n",
       "      <th>2</th>\n",
       "      <td>0EE9337825851032864889A</td>\n",
       "      <td>81716</td>\n",
       "      <td>2007-01-05 15:00:47.090000000</td>\n",
       "      <td>HR</td>\n",
       "      <td>36</td>\n",
       "      <td>Completed</td>\n",
       "      <td>2009-12-17 00:00:00</td>\n",
       "      <td>0.28269</td>\n",
       "      <td>0.2750</td>\n",
       "      <td>0.2400</td>\n",
       "      <td>...</td>\n",
       "      <td>-24.20</td>\n",
       "      <td>0.0</td>\n",
       "      <td>0.0</td>\n",
       "      <td>0.0</td>\n",
       "      <td>0.0</td>\n",
       "      <td>1.0</td>\n",
       "      <td>0</td>\n",
       "      <td>0</td>\n",
       "      <td>0.0</td>\n",
       "      <td>41</td>\n",
       "    </tr>\n",
       "    <tr>\n",
       "      <th>3</th>\n",
       "      <td>0EF5356002482715299901A</td>\n",
       "      <td>658116</td>\n",
       "      <td>2012-10-22 11:02:35.010000000</td>\n",
       "      <td>NaN</td>\n",
       "      <td>36</td>\n",
       "      <td>Current</td>\n",
       "      <td>NaN</td>\n",
       "      <td>0.12528</td>\n",
       "      <td>0.0974</td>\n",
       "      <td>0.0874</td>\n",
       "      <td>...</td>\n",
       "      <td>-108.01</td>\n",
       "      <td>0.0</td>\n",
       "      <td>0.0</td>\n",
       "      <td>0.0</td>\n",
       "      <td>0.0</td>\n",
       "      <td>1.0</td>\n",
       "      <td>0</td>\n",
       "      <td>0</td>\n",
       "      <td>0.0</td>\n",
       "      <td>158</td>\n",
       "    </tr>\n",
       "    <tr>\n",
       "      <th>4</th>\n",
       "      <td>0F023589499656230C5E3E2</td>\n",
       "      <td>909464</td>\n",
       "      <td>2013-09-14 18:38:39.097000000</td>\n",
       "      <td>NaN</td>\n",
       "      <td>36</td>\n",
       "      <td>Current</td>\n",
       "      <td>NaN</td>\n",
       "      <td>0.24614</td>\n",
       "      <td>0.2085</td>\n",
       "      <td>0.1985</td>\n",
       "      <td>...</td>\n",
       "      <td>-60.27</td>\n",
       "      <td>0.0</td>\n",
       "      <td>0.0</td>\n",
       "      <td>0.0</td>\n",
       "      <td>0.0</td>\n",
       "      <td>1.0</td>\n",
       "      <td>0</td>\n",
       "      <td>0</td>\n",
       "      <td>0.0</td>\n",
       "      <td>20</td>\n",
       "    </tr>\n",
       "  </tbody>\n",
       "</table>\n",
       "<p>5 rows × 81 columns</p>\n",
       "</div>"
      ],
      "text/plain": [
       "                ListingKey  ListingNumber            ListingCreationDate  \\\n",
       "0  1021339766868145413AB3B  193129         2007-08-26 19:09:29.263000000   \n",
       "1  10273602499503308B223C1  1209647        2014-02-27 08:28:07.900000000   \n",
       "2  0EE9337825851032864889A  81716          2007-01-05 15:00:47.090000000   \n",
       "3  0EF5356002482715299901A  658116         2012-10-22 11:02:35.010000000   \n",
       "4  0F023589499656230C5E3E2  909464         2013-09-14 18:38:39.097000000   \n",
       "\n",
       "  CreditGrade  Term LoanStatus           ClosedDate  BorrowerAPR  \\\n",
       "0  C           36    Completed  2009-08-14 00:00:00  0.16516       \n",
       "1  NaN         36    Current    NaN                  0.12016       \n",
       "2  HR          36    Completed  2009-12-17 00:00:00  0.28269       \n",
       "3  NaN         36    Current    NaN                  0.12528       \n",
       "4  NaN         36    Current    NaN                  0.24614       \n",
       "\n",
       "   BorrowerRate  LenderYield  ...  LP_ServiceFees  LP_CollectionFees  \\\n",
       "0  0.1580        0.1380       ... -133.18          0.0                 \n",
       "1  0.0920        0.0820       ...  0.00            0.0                 \n",
       "2  0.2750        0.2400       ... -24.20           0.0                 \n",
       "3  0.0974        0.0874       ... -108.01          0.0                 \n",
       "4  0.2085        0.1985       ... -60.27           0.0                 \n",
       "\n",
       "   LP_GrossPrincipalLoss  LP_NetPrincipalLoss LP_NonPrincipalRecoverypayments  \\\n",
       "0  0.0                    0.0                  0.0                              \n",
       "1  0.0                    0.0                  0.0                              \n",
       "2  0.0                    0.0                  0.0                              \n",
       "3  0.0                    0.0                  0.0                              \n",
       "4  0.0                    0.0                  0.0                              \n",
       "\n",
       "   PercentFunded  Recommendations InvestmentFromFriendsCount  \\\n",
       "0  1.0            0                0                           \n",
       "1  1.0            0                0                           \n",
       "2  1.0            0                0                           \n",
       "3  1.0            0                0                           \n",
       "4  1.0            0                0                           \n",
       "\n",
       "  InvestmentFromFriendsAmount Investors  \n",
       "0  0.0                         258       \n",
       "1  0.0                         1         \n",
       "2  0.0                         41        \n",
       "3  0.0                         158       \n",
       "4  0.0                         20        \n",
       "\n",
       "[5 rows x 81 columns]"
      ]
     },
     "execution_count": 37,
     "metadata": {},
     "output_type": "execute_result"
    }
   ],
   "source": [
    "df_loan.head()"
   ]
  },
  {
   "cell_type": "code",
   "execution_count": 38,
   "metadata": {},
   "outputs": [],
   "source": [
    "df_definitions = pd.read_csv('Prosper Loan Data - Variable Definitions .csv')"
   ]
  },
  {
   "cell_type": "code",
   "execution_count": 39,
   "metadata": {},
   "outputs": [],
   "source": [
    "pd.set_option('display.max_colwidth',-1)"
   ]
  },
  {
   "cell_type": "code",
   "execution_count": 40,
   "metadata": {},
   "outputs": [
    {
     "data": {
      "text/html": [
       "<div>\n",
       "<style scoped>\n",
       "    .dataframe tbody tr th:only-of-type {\n",
       "        vertical-align: middle;\n",
       "    }\n",
       "\n",
       "    .dataframe tbody tr th {\n",
       "        vertical-align: top;\n",
       "    }\n",
       "\n",
       "    .dataframe thead th {\n",
       "        text-align: right;\n",
       "    }\n",
       "</style>\n",
       "<table border=\"1\" class=\"dataframe\">\n",
       "  <thead>\n",
       "    <tr style=\"text-align: right;\">\n",
       "      <th></th>\n",
       "      <th>Variable</th>\n",
       "      <th>Description</th>\n",
       "    </tr>\n",
       "  </thead>\n",
       "  <tbody>\n",
       "    <tr>\n",
       "      <th>0</th>\n",
       "      <td>ListingKey</td>\n",
       "      <td>Unique key for each listing, same value as the 'key' used in the listing object in the API.</td>\n",
       "    </tr>\n",
       "    <tr>\n",
       "      <th>1</th>\n",
       "      <td>ListingNumber</td>\n",
       "      <td>The number that uniquely identifies the listing to the public as displayed on the website.</td>\n",
       "    </tr>\n",
       "    <tr>\n",
       "      <th>2</th>\n",
       "      <td>ListingCreationDate</td>\n",
       "      <td>The date the listing was created.</td>\n",
       "    </tr>\n",
       "    <tr>\n",
       "      <th>3</th>\n",
       "      <td>CreditGrade</td>\n",
       "      <td>The Credit rating that was assigned at the time the listing went live. Applicable for listings pre-2009 period and will only be populated for those listings.</td>\n",
       "    </tr>\n",
       "    <tr>\n",
       "      <th>4</th>\n",
       "      <td>Term</td>\n",
       "      <td>The length of the loan expressed in months.</td>\n",
       "    </tr>\n",
       "    <tr>\n",
       "      <th>5</th>\n",
       "      <td>LoanStatus</td>\n",
       "      <td>The current status of the loan: Cancelled,  Chargedoff, Completed, Current, Defaulted, FinalPaymentInProgress, PastDue. The PastDue status will be accompanied by a delinquency bucket.</td>\n",
       "    </tr>\n",
       "    <tr>\n",
       "      <th>6</th>\n",
       "      <td>ClosedDate</td>\n",
       "      <td>Closed date is applicable for Cancelled, Completed, Chargedoff and Defaulted loan statuses.</td>\n",
       "    </tr>\n",
       "    <tr>\n",
       "      <th>7</th>\n",
       "      <td>BorrowerAPR</td>\n",
       "      <td>The Borrower's Annual Percentage Rate (APR) for the loan.</td>\n",
       "    </tr>\n",
       "    <tr>\n",
       "      <th>8</th>\n",
       "      <td>BorrowerRate</td>\n",
       "      <td>The Borrower's interest rate for this loan.</td>\n",
       "    </tr>\n",
       "    <tr>\n",
       "      <th>9</th>\n",
       "      <td>LenderYield</td>\n",
       "      <td>The Lender yield on the loan. Lender yield is equal to the interest rate on the loan less the servicing fee.</td>\n",
       "    </tr>\n",
       "    <tr>\n",
       "      <th>10</th>\n",
       "      <td>EstimatedEffectiveYield</td>\n",
       "      <td>Effective yield is equal to the borrower interest rate (i) minus the servicing fee rate, (ii) minus estimated uncollected interest on charge-offs, (iii) plus estimated collected late fees.  Applicable for loans originated after July 2009.</td>\n",
       "    </tr>\n",
       "    <tr>\n",
       "      <th>11</th>\n",
       "      <td>EstimatedLoss</td>\n",
       "      <td>Estimated loss is the estimated principal loss on charge-offs. Applicable for loans originated after July 2009.</td>\n",
       "    </tr>\n",
       "    <tr>\n",
       "      <th>12</th>\n",
       "      <td>EstimatedReturn</td>\n",
       "      <td>The estimated return assigned to the listing at the time it was created. Estimated return is the difference between the Estimated Effective Yield and the Estimated Loss Rate. Applicable for loans originated after July 2009.</td>\n",
       "    </tr>\n",
       "    <tr>\n",
       "      <th>13</th>\n",
       "      <td>ProsperRating (numeric)</td>\n",
       "      <td>The  Prosper Rating assigned at the time the listing was created: 0 - N/A, 1 - HR, 2 - E, 3 - D, 4 - C, 5 - B, 6 - A, 7 - AA.  Applicable for loans originated after July 2009.</td>\n",
       "    </tr>\n",
       "    <tr>\n",
       "      <th>14</th>\n",
       "      <td>ProsperRating (Alpha)</td>\n",
       "      <td>The Prosper Rating assigned at the time the listing was created between AA - HR.  Applicable for loans originated after July 2009.</td>\n",
       "    </tr>\n",
       "    <tr>\n",
       "      <th>15</th>\n",
       "      <td>ProsperScore</td>\n",
       "      <td>A custom risk score built using historical Prosper data. The score ranges from 1-10, with 10 being the best, or lowest risk score.  Applicable for loans originated after July 2009.</td>\n",
       "    </tr>\n",
       "    <tr>\n",
       "      <th>16</th>\n",
       "      <td>ListingCategory</td>\n",
       "      <td>The category of the listing that the borrower selected when posting their listing: 0 - Not Available, 1 - Debt Consolidation, 2 - Home Improvement, 3 - Business, 4 - Personal Loan, 5 - Student Use, 6 - Auto, 7- Other, 8 - Baby&amp;Adoption, 9 - Boat, 10 - Cosmetic Procedure, 11 - Engagement Ring, 12 - Green Loans, 13 - Household Expenses, 14 - Large Purchases, 15 - Medical/Dental, 16 - Motorcycle, 17 - RV, 18 - Taxes, 19 - Vacation, 20 - Wedding Loans</td>\n",
       "    </tr>\n",
       "    <tr>\n",
       "      <th>17</th>\n",
       "      <td>BorrowerState</td>\n",
       "      <td>The two letter abbreviation of the state of the address of the borrower at the time the Listing was created.</td>\n",
       "    </tr>\n",
       "    <tr>\n",
       "      <th>18</th>\n",
       "      <td>Occupation</td>\n",
       "      <td>The Occupation selected by the Borrower at the time they created the listing.</td>\n",
       "    </tr>\n",
       "    <tr>\n",
       "      <th>19</th>\n",
       "      <td>EmploymentStatus</td>\n",
       "      <td>The employment status of the borrower at the time they posted the listing.</td>\n",
       "    </tr>\n",
       "    <tr>\n",
       "      <th>20</th>\n",
       "      <td>EmploymentStatusDuration</td>\n",
       "      <td>The length in months of the employment status at the time the listing was created.</td>\n",
       "    </tr>\n",
       "    <tr>\n",
       "      <th>21</th>\n",
       "      <td>IsBorrowerHomeowner</td>\n",
       "      <td>A Borrower will be classified as a homowner if they have a mortgage on their credit profile or provide documentation confirming they are a homeowner.</td>\n",
       "    </tr>\n",
       "    <tr>\n",
       "      <th>22</th>\n",
       "      <td>CurrentlyInGroup</td>\n",
       "      <td>Specifies whether or not the Borrower was in a group at the time the listing was created.</td>\n",
       "    </tr>\n",
       "    <tr>\n",
       "      <th>23</th>\n",
       "      <td>GroupKey</td>\n",
       "      <td>The Key of the group in which the Borrower is a member of. Value will be null if the borrower does not have a group affiliation.</td>\n",
       "    </tr>\n",
       "    <tr>\n",
       "      <th>24</th>\n",
       "      <td>DateCreditPulled</td>\n",
       "      <td>The date the credit profile was pulled.</td>\n",
       "    </tr>\n",
       "    <tr>\n",
       "      <th>25</th>\n",
       "      <td>CreditScoreRangeLower</td>\n",
       "      <td>The lower value representing the range of the borrower's credit score as provided by a consumer credit rating agency.</td>\n",
       "    </tr>\n",
       "    <tr>\n",
       "      <th>26</th>\n",
       "      <td>CreditScoreRangeUpper</td>\n",
       "      <td>The upper value representing the range of the borrower's credit score as provided by a consumer credit rating agency.</td>\n",
       "    </tr>\n",
       "    <tr>\n",
       "      <th>27</th>\n",
       "      <td>FirstRecordedCreditLine</td>\n",
       "      <td>The date the first credit line was opened.</td>\n",
       "    </tr>\n",
       "    <tr>\n",
       "      <th>28</th>\n",
       "      <td>CurrentCreditLines</td>\n",
       "      <td>Number of current credit lines at the time the credit profile was pulled.</td>\n",
       "    </tr>\n",
       "    <tr>\n",
       "      <th>29</th>\n",
       "      <td>OpenCreditLines</td>\n",
       "      <td>Number of open credit lines at the time the credit profile was pulled.</td>\n",
       "    </tr>\n",
       "    <tr>\n",
       "      <th>...</th>\n",
       "      <td>...</td>\n",
       "      <td>...</td>\n",
       "    </tr>\n",
       "    <tr>\n",
       "      <th>51</th>\n",
       "      <td>TotalProsperLoans</td>\n",
       "      <td>Number of Prosper loans the borrower at the time they created this listing. This value will be null if the borrower had no prior loans.</td>\n",
       "    </tr>\n",
       "    <tr>\n",
       "      <th>52</th>\n",
       "      <td>TotalProsperPaymentsBilled</td>\n",
       "      <td>Number of on time payments the borrower made on Prosper loans at the time they created this listing. This value will be null if the borrower had no prior loans.</td>\n",
       "    </tr>\n",
       "    <tr>\n",
       "      <th>53</th>\n",
       "      <td>OnTimeProsperPayments</td>\n",
       "      <td>Number of on time payments the borrower had made on Prosper loans at the time they created this listing. This value will be null if the borrower has no prior loans.</td>\n",
       "    </tr>\n",
       "    <tr>\n",
       "      <th>54</th>\n",
       "      <td>ProsperPaymentsLessThanOneMonthLate</td>\n",
       "      <td>Number of payments the borrower made on Prosper loans that were less than one month late at the time they created this listing. This value will be null if the borrower had no prior loans.</td>\n",
       "    </tr>\n",
       "    <tr>\n",
       "      <th>55</th>\n",
       "      <td>ProsperPaymentsOneMonthPlusLate</td>\n",
       "      <td>Number of payments the borrower made on Prosper loans that were greater than one month late at the time they created this listing. This value will be null if the borrower had no prior loans.</td>\n",
       "    </tr>\n",
       "    <tr>\n",
       "      <th>56</th>\n",
       "      <td>ProsperPrincipalBorrowed</td>\n",
       "      <td>Total principal borrowed on Prosper loans at the time the listing was created. This value will be null if the borrower had no prior loans.</td>\n",
       "    </tr>\n",
       "    <tr>\n",
       "      <th>57</th>\n",
       "      <td>ProsperPrincipalOutstanding</td>\n",
       "      <td>Principal outstanding on Prosper loans at the time the listing was created. This value will be null if the borrower had no prior loans.</td>\n",
       "    </tr>\n",
       "    <tr>\n",
       "      <th>58</th>\n",
       "      <td>ScorexChangeAtTimeOfListing</td>\n",
       "      <td>Borrower's credit score change at the time the credit profile was pulled. This will be the change relative to the borrower's last Prosper loan. This value will be null if the borrower had no prior loans.</td>\n",
       "    </tr>\n",
       "    <tr>\n",
       "      <th>59</th>\n",
       "      <td>LoanCurrentDaysDelinquent</td>\n",
       "      <td>The number of days delinquent.</td>\n",
       "    </tr>\n",
       "    <tr>\n",
       "      <th>60</th>\n",
       "      <td>LoanFirstDefaultedCycleNumber</td>\n",
       "      <td>The cycle the loan was charged off. If the loan has not charged off the value will be null.</td>\n",
       "    </tr>\n",
       "    <tr>\n",
       "      <th>61</th>\n",
       "      <td>LoanMonthsSinceOrigination</td>\n",
       "      <td>Number of months since the loan originated.</td>\n",
       "    </tr>\n",
       "    <tr>\n",
       "      <th>62</th>\n",
       "      <td>LoanNumber</td>\n",
       "      <td>Unique numeric value associated with the loan.</td>\n",
       "    </tr>\n",
       "    <tr>\n",
       "      <th>63</th>\n",
       "      <td>LoanOriginalAmount</td>\n",
       "      <td>The origination amount of the loan.</td>\n",
       "    </tr>\n",
       "    <tr>\n",
       "      <th>64</th>\n",
       "      <td>LoanOriginationDate</td>\n",
       "      <td>The date the loan was originated.</td>\n",
       "    </tr>\n",
       "    <tr>\n",
       "      <th>65</th>\n",
       "      <td>LoanOriginationQuarter</td>\n",
       "      <td>The quarter in which the loan was originated.</td>\n",
       "    </tr>\n",
       "    <tr>\n",
       "      <th>66</th>\n",
       "      <td>MemberKey</td>\n",
       "      <td>The unique key that is associated with the borrower. This is the same identifier that is used in the API member object.</td>\n",
       "    </tr>\n",
       "    <tr>\n",
       "      <th>67</th>\n",
       "      <td>MonthlyLoanPayment</td>\n",
       "      <td>The scheduled monthly loan payment.</td>\n",
       "    </tr>\n",
       "    <tr>\n",
       "      <th>68</th>\n",
       "      <td>LP_CustomerPayments</td>\n",
       "      <td>Pre charge-off cumulative gross payments made by the borrower on the loan. If the loan has charged off, this value will exclude any recoveries.</td>\n",
       "    </tr>\n",
       "    <tr>\n",
       "      <th>69</th>\n",
       "      <td>LP_CustomerPrincipalPayments</td>\n",
       "      <td>Pre charge-off cumulative principal payments made by the borrower on the loan. If the loan has charged off, this value will exclude any recoveries.</td>\n",
       "    </tr>\n",
       "    <tr>\n",
       "      <th>70</th>\n",
       "      <td>LP_InterestandFees</td>\n",
       "      <td>Pre charge-off cumulative interest and fees paid by the borrower. If the loan has charged off, this value will exclude any recoveries.</td>\n",
       "    </tr>\n",
       "    <tr>\n",
       "      <th>71</th>\n",
       "      <td>LP_ServiceFees</td>\n",
       "      <td>Cumulative service fees paid by the investors who have invested in the loan.</td>\n",
       "    </tr>\n",
       "    <tr>\n",
       "      <th>72</th>\n",
       "      <td>LP_CollectionFees</td>\n",
       "      <td>Cumulative collection fees paid by the investors who have invested in the loan.</td>\n",
       "    </tr>\n",
       "    <tr>\n",
       "      <th>73</th>\n",
       "      <td>LP_GrossPrincipalLoss</td>\n",
       "      <td>The gross charged off amount of the loan.</td>\n",
       "    </tr>\n",
       "    <tr>\n",
       "      <th>74</th>\n",
       "      <td>LP_NetPrincipalLoss</td>\n",
       "      <td>The principal that remains uncollected after any recoveries.</td>\n",
       "    </tr>\n",
       "    <tr>\n",
       "      <th>75</th>\n",
       "      <td>LP_NonPrincipalRecoverypayments</td>\n",
       "      <td>The interest and fee component of any recovery payments. The current payment policy applies payments in the following order: Fees, interest, principal.</td>\n",
       "    </tr>\n",
       "    <tr>\n",
       "      <th>76</th>\n",
       "      <td>PercentFunded</td>\n",
       "      <td>Percent the listing was funded.</td>\n",
       "    </tr>\n",
       "    <tr>\n",
       "      <th>77</th>\n",
       "      <td>Recommendations</td>\n",
       "      <td>Number of recommendations the borrower had at the time the listing was created.</td>\n",
       "    </tr>\n",
       "    <tr>\n",
       "      <th>78</th>\n",
       "      <td>InvestmentFromFriendsCount</td>\n",
       "      <td>Number of friends that made an investment in the loan.</td>\n",
       "    </tr>\n",
       "    <tr>\n",
       "      <th>79</th>\n",
       "      <td>InvestmentFromFriendsAmount</td>\n",
       "      <td>Dollar amount of investments that were made by friends.</td>\n",
       "    </tr>\n",
       "    <tr>\n",
       "      <th>80</th>\n",
       "      <td>Investors</td>\n",
       "      <td>The number of investors that funded the loan.</td>\n",
       "    </tr>\n",
       "  </tbody>\n",
       "</table>\n",
       "<p>81 rows × 2 columns</p>\n",
       "</div>"
      ],
      "text/plain": [
       "                               Variable  \\\n",
       "0   ListingKey                            \n",
       "1   ListingNumber                         \n",
       "2   ListingCreationDate                   \n",
       "3   CreditGrade                           \n",
       "4   Term                                  \n",
       "5   LoanStatus                            \n",
       "6   ClosedDate                            \n",
       "7   BorrowerAPR                           \n",
       "8   BorrowerRate                          \n",
       "9   LenderYield                           \n",
       "10  EstimatedEffectiveYield               \n",
       "11  EstimatedLoss                         \n",
       "12  EstimatedReturn                       \n",
       "13  ProsperRating (numeric)               \n",
       "14  ProsperRating (Alpha)                 \n",
       "15  ProsperScore                          \n",
       "16  ListingCategory                       \n",
       "17  BorrowerState                         \n",
       "18  Occupation                            \n",
       "19  EmploymentStatus                      \n",
       "20  EmploymentStatusDuration              \n",
       "21  IsBorrowerHomeowner                   \n",
       "22  CurrentlyInGroup                      \n",
       "23  GroupKey                              \n",
       "24  DateCreditPulled                      \n",
       "25  CreditScoreRangeLower                 \n",
       "26  CreditScoreRangeUpper                 \n",
       "27  FirstRecordedCreditLine               \n",
       "28  CurrentCreditLines                    \n",
       "29  OpenCreditLines                       \n",
       "..              ...                       \n",
       "51  TotalProsperLoans                     \n",
       "52  TotalProsperPaymentsBilled            \n",
       "53  OnTimeProsperPayments                 \n",
       "54  ProsperPaymentsLessThanOneMonthLate   \n",
       "55  ProsperPaymentsOneMonthPlusLate       \n",
       "56  ProsperPrincipalBorrowed              \n",
       "57  ProsperPrincipalOutstanding           \n",
       "58  ScorexChangeAtTimeOfListing           \n",
       "59  LoanCurrentDaysDelinquent             \n",
       "60  LoanFirstDefaultedCycleNumber         \n",
       "61  LoanMonthsSinceOrigination            \n",
       "62  LoanNumber                            \n",
       "63  LoanOriginalAmount                    \n",
       "64  LoanOriginationDate                   \n",
       "65  LoanOriginationQuarter                \n",
       "66  MemberKey                             \n",
       "67  MonthlyLoanPayment                    \n",
       "68  LP_CustomerPayments                   \n",
       "69  LP_CustomerPrincipalPayments          \n",
       "70  LP_InterestandFees                    \n",
       "71  LP_ServiceFees                        \n",
       "72  LP_CollectionFees                     \n",
       "73  LP_GrossPrincipalLoss                 \n",
       "74  LP_NetPrincipalLoss                   \n",
       "75  LP_NonPrincipalRecoverypayments       \n",
       "76  PercentFunded                         \n",
       "77  Recommendations                       \n",
       "78  InvestmentFromFriendsCount            \n",
       "79  InvestmentFromFriendsAmount           \n",
       "80  Investors                             \n",
       "\n",
       "                                                                                                                                                                                                                                                                                                                                                                                                                                                            Description  \n",
       "0   Unique key for each listing, same value as the 'key' used in the listing object in the API.                                                                                                                                                                                                                                                                                                                                                                          \n",
       "1   The number that uniquely identifies the listing to the public as displayed on the website.                                                                                                                                                                                                                                                                                                                                                                           \n",
       "2   The date the listing was created.                                                                                                                                                                                                                                                                                                                                                                                                                                    \n",
       "3   The Credit rating that was assigned at the time the listing went live. Applicable for listings pre-2009 period and will only be populated for those listings.                                                                                                                                                                                                                                                                                                        \n",
       "4   The length of the loan expressed in months.                                                                                                                                                                                                                                                                                                                                                                                                                          \n",
       "5   The current status of the loan: Cancelled,  Chargedoff, Completed, Current, Defaulted, FinalPaymentInProgress, PastDue. The PastDue status will be accompanied by a delinquency bucket.                                                                                                                                                                                                                                                                              \n",
       "6   Closed date is applicable for Cancelled, Completed, Chargedoff and Defaulted loan statuses.                                                                                                                                                                                                                                                                                                                                                                          \n",
       "7   The Borrower's Annual Percentage Rate (APR) for the loan.                                                                                                                                                                                                                                                                                                                                                                                                            \n",
       "8   The Borrower's interest rate for this loan.                                                                                                                                                                                                                                                                                                                                                                                                                          \n",
       "9   The Lender yield on the loan. Lender yield is equal to the interest rate on the loan less the servicing fee.                                                                                                                                                                                                                                                                                                                                                         \n",
       "10  Effective yield is equal to the borrower interest rate (i) minus the servicing fee rate, (ii) minus estimated uncollected interest on charge-offs, (iii) plus estimated collected late fees.  Applicable for loans originated after July 2009.                                                                                                                                                                                                                       \n",
       "11  Estimated loss is the estimated principal loss on charge-offs. Applicable for loans originated after July 2009.                                                                                                                                                                                                                                                                                                                                                      \n",
       "12  The estimated return assigned to the listing at the time it was created. Estimated return is the difference between the Estimated Effective Yield and the Estimated Loss Rate. Applicable for loans originated after July 2009.                                                                                                                                                                                                                                      \n",
       "13  The  Prosper Rating assigned at the time the listing was created: 0 - N/A, 1 - HR, 2 - E, 3 - D, 4 - C, 5 - B, 6 - A, 7 - AA.  Applicable for loans originated after July 2009.                                                                                                                                                                                                                                                                                      \n",
       "14  The Prosper Rating assigned at the time the listing was created between AA - HR.  Applicable for loans originated after July 2009.                                                                                                                                                                                                                                                                                                                                   \n",
       "15  A custom risk score built using historical Prosper data. The score ranges from 1-10, with 10 being the best, or lowest risk score.  Applicable for loans originated after July 2009.                                                                                                                                                                                                                                                                                 \n",
       "16  The category of the listing that the borrower selected when posting their listing: 0 - Not Available, 1 - Debt Consolidation, 2 - Home Improvement, 3 - Business, 4 - Personal Loan, 5 - Student Use, 6 - Auto, 7- Other, 8 - Baby&Adoption, 9 - Boat, 10 - Cosmetic Procedure, 11 - Engagement Ring, 12 - Green Loans, 13 - Household Expenses, 14 - Large Purchases, 15 - Medical/Dental, 16 - Motorcycle, 17 - RV, 18 - Taxes, 19 - Vacation, 20 - Wedding Loans  \n",
       "17  The two letter abbreviation of the state of the address of the borrower at the time the Listing was created.                                                                                                                                                                                                                                                                                                                                                         \n",
       "18  The Occupation selected by the Borrower at the time they created the listing.                                                                                                                                                                                                                                                                                                                                                                                        \n",
       "19  The employment status of the borrower at the time they posted the listing.                                                                                                                                                                                                                                                                                                                                                                                           \n",
       "20  The length in months of the employment status at the time the listing was created.                                                                                                                                                                                                                                                                                                                                                                                   \n",
       "21  A Borrower will be classified as a homowner if they have a mortgage on their credit profile or provide documentation confirming they are a homeowner.                                                                                                                                                                                                                                                                                                                \n",
       "22  Specifies whether or not the Borrower was in a group at the time the listing was created.                                                                                                                                                                                                                                                                                                                                                                            \n",
       "23  The Key of the group in which the Borrower is a member of. Value will be null if the borrower does not have a group affiliation.                                                                                                                                                                                                                                                                                                                                     \n",
       "24  The date the credit profile was pulled.                                                                                                                                                                                                                                                                                                                                                                                                                              \n",
       "25  The lower value representing the range of the borrower's credit score as provided by a consumer credit rating agency.                                                                                                                                                                                                                                                                                                                                                \n",
       "26  The upper value representing the range of the borrower's credit score as provided by a consumer credit rating agency.                                                                                                                                                                                                                                                                                                                                                \n",
       "27  The date the first credit line was opened.                                                                                                                                                                                                                                                                                                                                                                                                                           \n",
       "28  Number of current credit lines at the time the credit profile was pulled.                                                                                                                                                                                                                                                                                                                                                                                            \n",
       "29  Number of open credit lines at the time the credit profile was pulled.                                                                                                                                                                                                                                                                                                                                                                                               \n",
       "..                                                                     ...                                                                                                                                                                                                                                                                                                                                                                                               \n",
       "51  Number of Prosper loans the borrower at the time they created this listing. This value will be null if the borrower had no prior loans.                                                                                                                                                                                                                                                                                                                              \n",
       "52  Number of on time payments the borrower made on Prosper loans at the time they created this listing. This value will be null if the borrower had no prior loans.                                                                                                                                                                                                                                                                                                     \n",
       "53  Number of on time payments the borrower had made on Prosper loans at the time they created this listing. This value will be null if the borrower has no prior loans.                                                                                                                                                                                                                                                                                                 \n",
       "54  Number of payments the borrower made on Prosper loans that were less than one month late at the time they created this listing. This value will be null if the borrower had no prior loans.                                                                                                                                                                                                                                                                          \n",
       "55  Number of payments the borrower made on Prosper loans that were greater than one month late at the time they created this listing. This value will be null if the borrower had no prior loans.                                                                                                                                                                                                                                                                       \n",
       "56  Total principal borrowed on Prosper loans at the time the listing was created. This value will be null if the borrower had no prior loans.                                                                                                                                                                                                                                                                                                                           \n",
       "57  Principal outstanding on Prosper loans at the time the listing was created. This value will be null if the borrower had no prior loans.                                                                                                                                                                                                                                                                                                                              \n",
       "58  Borrower's credit score change at the time the credit profile was pulled. This will be the change relative to the borrower's last Prosper loan. This value will be null if the borrower had no prior loans.                                                                                                                                                                                                                                                          \n",
       "59  The number of days delinquent.                                                                                                                                                                                                                                                                                                                                                                                                                                       \n",
       "60  The cycle the loan was charged off. If the loan has not charged off the value will be null.                                                                                                                                                                                                                                                                                                                                                                          \n",
       "61  Number of months since the loan originated.                                                                                                                                                                                                                                                                                                                                                                                                                          \n",
       "62  Unique numeric value associated with the loan.                                                                                                                                                                                                                                                                                                                                                                                                                       \n",
       "63  The origination amount of the loan.                                                                                                                                                                                                                                                                                                                                                                                                                                  \n",
       "64  The date the loan was originated.                                                                                                                                                                                                                                                                                                                                                                                                                                    \n",
       "65  The quarter in which the loan was originated.                                                                                                                                                                                                                                                                                                                                                                                                                        \n",
       "66  The unique key that is associated with the borrower. This is the same identifier that is used in the API member object.                                                                                                                                                                                                                                                                                                                                              \n",
       "67  The scheduled monthly loan payment.                                                                                                                                                                                                                                                                                                                                                                                                                                  \n",
       "68  Pre charge-off cumulative gross payments made by the borrower on the loan. If the loan has charged off, this value will exclude any recoveries.                                                                                                                                                                                                                                                                                                                      \n",
       "69  Pre charge-off cumulative principal payments made by the borrower on the loan. If the loan has charged off, this value will exclude any recoveries.                                                                                                                                                                                                                                                                                                                  \n",
       "70  Pre charge-off cumulative interest and fees paid by the borrower. If the loan has charged off, this value will exclude any recoveries.                                                                                                                                                                                                                                                                                                                               \n",
       "71  Cumulative service fees paid by the investors who have invested in the loan.                                                                                                                                                                                                                                                                                                                                                                                         \n",
       "72  Cumulative collection fees paid by the investors who have invested in the loan.                                                                                                                                                                                                                                                                                                                                                                                      \n",
       "73  The gross charged off amount of the loan.                                                                                                                                                                                                                                                                                                                                                                                                                            \n",
       "74  The principal that remains uncollected after any recoveries.                                                                                                                                                                                                                                                                                                                                                                                                         \n",
       "75  The interest and fee component of any recovery payments. The current payment policy applies payments in the following order: Fees, interest, principal.                                                                                                                                                                                                                                                                                                              \n",
       "76  Percent the listing was funded.                                                                                                                                                                                                                                                                                                                                                                                                                                      \n",
       "77  Number of recommendations the borrower had at the time the listing was created.                                                                                                                                                                                                                                                                                                                                                                                      \n",
       "78  Number of friends that made an investment in the loan.                                                                                                                                                                                                                                                                                                                                                                                                               \n",
       "79  Dollar amount of investments that were made by friends.                                                                                                                                                                                                                                                                                                                                                                                                              \n",
       "80  The number of investors that funded the loan.                                                                                                                                                                                                                                                                                                                                                                                                                        \n",
       "\n",
       "[81 rows x 2 columns]"
      ]
     },
     "execution_count": 40,
     "metadata": {},
     "output_type": "execute_result"
    }
   ],
   "source": [
    "df_definitions"
   ]
  },
  {
   "cell_type": "code",
   "execution_count": 41,
   "metadata": {},
   "outputs": [
    {
     "data": {
      "text/plain": [
       "array(['Completed', 'Current', 'Past Due (1-15 days)', 'Defaulted',\n",
       "       'Chargedoff', 'Past Due (16-30 days)', 'Cancelled',\n",
       "       'Past Due (61-90 days)', 'Past Due (31-60 days)',\n",
       "       'Past Due (91-120 days)', 'FinalPaymentInProgress',\n",
       "       'Past Due (>120 days)'], dtype=object)"
      ]
     },
     "execution_count": 41,
     "metadata": {},
     "output_type": "execute_result"
    }
   ],
   "source": [
    "df_loan.LoanStatus.unique()"
   ]
  },
  {
   "cell_type": "markdown",
   "metadata": {},
   "source": [
    "Items to investigate for Question-1:\n",
    "- BorrowerAPR\n",
    "- BorrowerRate\n",
    "- Term\n",
    "- CreditGrade\n",
    "- EmploymentStatus\n",
    "- EmploymentStatusDuration\n",
    "- IsBorrowerHomeowner\n",
    "- DebtToIncomeRatio\n",
    "- IncomeRange\n",
    "- IncomeVerifiable\n",
    "- LoanOriginalAmount\n",
    "- MonthlyLoanPayment\n",
    "\n",
    "\n",
    "Items to add for Question-2:\n",
    "- TotalCreditLinespas7years\n",
    "\n"
   ]
  },
  {
   "cell_type": "code",
   "execution_count": 225,
   "metadata": {},
   "outputs": [],
   "source": [
    "df_subset = df_loan[['LoanStatus','BorrowerAPR','BorrowerRate','Term','CreditGrade','EmploymentStatus','EmploymentStatusDuration',\n",
    "                    'IsBorrowerHomeowner','DebtToIncomeRatio','IncomeRange','IncomeVerifiable','LoanOriginalAmount',\n",
    "                    'MonthlyLoanPayment','TotalCreditLinespast7years']]\n",
    "df_subset = df_subset.copy()"
   ]
  },
  {
   "cell_type": "code",
   "execution_count": 226,
   "metadata": {},
   "outputs": [
    {
     "data": {
      "text/html": [
       "<div>\n",
       "<style scoped>\n",
       "    .dataframe tbody tr th:only-of-type {\n",
       "        vertical-align: middle;\n",
       "    }\n",
       "\n",
       "    .dataframe tbody tr th {\n",
       "        vertical-align: top;\n",
       "    }\n",
       "\n",
       "    .dataframe thead th {\n",
       "        text-align: right;\n",
       "    }\n",
       "</style>\n",
       "<table border=\"1\" class=\"dataframe\">\n",
       "  <thead>\n",
       "    <tr style=\"text-align: right;\">\n",
       "      <th></th>\n",
       "      <th>LoanStatus</th>\n",
       "      <th>BorrowerAPR</th>\n",
       "      <th>BorrowerRate</th>\n",
       "      <th>Term</th>\n",
       "      <th>CreditGrade</th>\n",
       "      <th>EmploymentStatus</th>\n",
       "      <th>EmploymentStatusDuration</th>\n",
       "      <th>IsBorrowerHomeowner</th>\n",
       "      <th>DebtToIncomeRatio</th>\n",
       "      <th>IncomeRange</th>\n",
       "      <th>IncomeVerifiable</th>\n",
       "      <th>LoanOriginalAmount</th>\n",
       "      <th>MonthlyLoanPayment</th>\n",
       "      <th>TotalCreditLinespast7years</th>\n",
       "    </tr>\n",
       "  </thead>\n",
       "  <tbody>\n",
       "    <tr>\n",
       "      <th>101343</th>\n",
       "      <td>Current</td>\n",
       "      <td>0.14409</td>\n",
       "      <td>0.1159</td>\n",
       "      <td>36</td>\n",
       "      <td>NaN</td>\n",
       "      <td>Employed</td>\n",
       "      <td>26.0</td>\n",
       "      <td>False</td>\n",
       "      <td>0.15</td>\n",
       "      <td>$50,000-74,999</td>\n",
       "      <td>True</td>\n",
       "      <td>5000</td>\n",
       "      <td>165.09</td>\n",
       "      <td>8.0</td>\n",
       "    </tr>\n",
       "    <tr>\n",
       "      <th>4719</th>\n",
       "      <td>Completed</td>\n",
       "      <td>0.29486</td>\n",
       "      <td>0.2561</td>\n",
       "      <td>36</td>\n",
       "      <td>NaN</td>\n",
       "      <td>Employed</td>\n",
       "      <td>235.0</td>\n",
       "      <td>True</td>\n",
       "      <td>0.27</td>\n",
       "      <td>$100,000+</td>\n",
       "      <td>True</td>\n",
       "      <td>10000</td>\n",
       "      <td>400.83</td>\n",
       "      <td>34.0</td>\n",
       "    </tr>\n",
       "    <tr>\n",
       "      <th>80619</th>\n",
       "      <td>Completed</td>\n",
       "      <td>0.28918</td>\n",
       "      <td>0.1900</td>\n",
       "      <td>12</td>\n",
       "      <td>NaN</td>\n",
       "      <td>Employed</td>\n",
       "      <td>10.0</td>\n",
       "      <td>False</td>\n",
       "      <td>0.28</td>\n",
       "      <td>$25,000-49,999</td>\n",
       "      <td>True</td>\n",
       "      <td>2000</td>\n",
       "      <td>184.31</td>\n",
       "      <td>17.0</td>\n",
       "    </tr>\n",
       "    <tr>\n",
       "      <th>110638</th>\n",
       "      <td>Current</td>\n",
       "      <td>0.13227</td>\n",
       "      <td>0.1099</td>\n",
       "      <td>60</td>\n",
       "      <td>NaN</td>\n",
       "      <td>Employed</td>\n",
       "      <td>120.0</td>\n",
       "      <td>True</td>\n",
       "      <td>0.20</td>\n",
       "      <td>$100,000+</td>\n",
       "      <td>True</td>\n",
       "      <td>9275</td>\n",
       "      <td>201.61</td>\n",
       "      <td>37.0</td>\n",
       "    </tr>\n",
       "    <tr>\n",
       "      <th>59753</th>\n",
       "      <td>Current</td>\n",
       "      <td>0.20524</td>\n",
       "      <td>0.1685</td>\n",
       "      <td>36</td>\n",
       "      <td>NaN</td>\n",
       "      <td>Employed</td>\n",
       "      <td>88.0</td>\n",
       "      <td>False</td>\n",
       "      <td>0.19</td>\n",
       "      <td>$25,000-49,999</td>\n",
       "      <td>True</td>\n",
       "      <td>10000</td>\n",
       "      <td>355.78</td>\n",
       "      <td>28.0</td>\n",
       "    </tr>\n",
       "  </tbody>\n",
       "</table>\n",
       "</div>"
      ],
      "text/plain": [
       "       LoanStatus  BorrowerAPR  BorrowerRate  Term CreditGrade  \\\n",
       "101343  Current    0.14409      0.1159        36    NaN          \n",
       "4719    Completed  0.29486      0.2561        36    NaN          \n",
       "80619   Completed  0.28918      0.1900        12    NaN          \n",
       "110638  Current    0.13227      0.1099        60    NaN          \n",
       "59753   Current    0.20524      0.1685        36    NaN          \n",
       "\n",
       "       EmploymentStatus  EmploymentStatusDuration  IsBorrowerHomeowner  \\\n",
       "101343  Employed         26.0                      False                 \n",
       "4719    Employed         235.0                     True                  \n",
       "80619   Employed         10.0                      False                 \n",
       "110638  Employed         120.0                     True                  \n",
       "59753   Employed         88.0                      False                 \n",
       "\n",
       "        DebtToIncomeRatio     IncomeRange  IncomeVerifiable  \\\n",
       "101343  0.15               $50,000-74,999  True               \n",
       "4719    0.27               $100,000+       True               \n",
       "80619   0.28               $25,000-49,999  True               \n",
       "110638  0.20               $100,000+       True               \n",
       "59753   0.19               $25,000-49,999  True               \n",
       "\n",
       "        LoanOriginalAmount  MonthlyLoanPayment  TotalCreditLinespast7years  \n",
       "101343  5000                165.09              8.0                         \n",
       "4719    10000               400.83              34.0                        \n",
       "80619   2000                184.31              17.0                        \n",
       "110638  9275                201.61              37.0                        \n",
       "59753   10000               355.78              28.0                        "
      ]
     },
     "execution_count": 226,
     "metadata": {},
     "output_type": "execute_result"
    }
   ],
   "source": [
    "df_subset.sample(5)"
   ]
  },
  {
   "cell_type": "code",
   "execution_count": 227,
   "metadata": {},
   "outputs": [
    {
     "data": {
      "text/html": [
       "<div>\n",
       "<style scoped>\n",
       "    .dataframe tbody tr th:only-of-type {\n",
       "        vertical-align: middle;\n",
       "    }\n",
       "\n",
       "    .dataframe tbody tr th {\n",
       "        vertical-align: top;\n",
       "    }\n",
       "\n",
       "    .dataframe thead th {\n",
       "        text-align: right;\n",
       "    }\n",
       "</style>\n",
       "<table border=\"1\" class=\"dataframe\">\n",
       "  <thead>\n",
       "    <tr style=\"text-align: right;\">\n",
       "      <th></th>\n",
       "      <th>BorrowerAPR</th>\n",
       "      <th>BorrowerRate</th>\n",
       "      <th>Term</th>\n",
       "      <th>EmploymentStatusDuration</th>\n",
       "      <th>DebtToIncomeRatio</th>\n",
       "      <th>LoanOriginalAmount</th>\n",
       "      <th>MonthlyLoanPayment</th>\n",
       "      <th>TotalCreditLinespast7years</th>\n",
       "    </tr>\n",
       "  </thead>\n",
       "  <tbody>\n",
       "    <tr>\n",
       "      <th>count</th>\n",
       "      <td>113912.000000</td>\n",
       "      <td>113937.000000</td>\n",
       "      <td>113937.000000</td>\n",
       "      <td>106312.000000</td>\n",
       "      <td>105383.000000</td>\n",
       "      <td>113937.00000</td>\n",
       "      <td>113937.000000</td>\n",
       "      <td>113240.000000</td>\n",
       "    </tr>\n",
       "    <tr>\n",
       "      <th>mean</th>\n",
       "      <td>0.218828</td>\n",
       "      <td>0.192764</td>\n",
       "      <td>40.830248</td>\n",
       "      <td>96.071582</td>\n",
       "      <td>0.275947</td>\n",
       "      <td>8337.01385</td>\n",
       "      <td>272.475783</td>\n",
       "      <td>26.754539</td>\n",
       "    </tr>\n",
       "    <tr>\n",
       "      <th>std</th>\n",
       "      <td>0.080364</td>\n",
       "      <td>0.074818</td>\n",
       "      <td>10.436212</td>\n",
       "      <td>94.480605</td>\n",
       "      <td>0.551759</td>\n",
       "      <td>6245.80058</td>\n",
       "      <td>192.697812</td>\n",
       "      <td>13.637871</td>\n",
       "    </tr>\n",
       "    <tr>\n",
       "      <th>min</th>\n",
       "      <td>0.006530</td>\n",
       "      <td>0.000000</td>\n",
       "      <td>12.000000</td>\n",
       "      <td>0.000000</td>\n",
       "      <td>0.000000</td>\n",
       "      <td>1000.00000</td>\n",
       "      <td>0.000000</td>\n",
       "      <td>2.000000</td>\n",
       "    </tr>\n",
       "    <tr>\n",
       "      <th>25%</th>\n",
       "      <td>0.156290</td>\n",
       "      <td>0.134000</td>\n",
       "      <td>36.000000</td>\n",
       "      <td>26.000000</td>\n",
       "      <td>0.140000</td>\n",
       "      <td>4000.00000</td>\n",
       "      <td>131.620000</td>\n",
       "      <td>17.000000</td>\n",
       "    </tr>\n",
       "    <tr>\n",
       "      <th>50%</th>\n",
       "      <td>0.209760</td>\n",
       "      <td>0.184000</td>\n",
       "      <td>36.000000</td>\n",
       "      <td>67.000000</td>\n",
       "      <td>0.220000</td>\n",
       "      <td>6500.00000</td>\n",
       "      <td>217.740000</td>\n",
       "      <td>25.000000</td>\n",
       "    </tr>\n",
       "    <tr>\n",
       "      <th>75%</th>\n",
       "      <td>0.283810</td>\n",
       "      <td>0.250000</td>\n",
       "      <td>36.000000</td>\n",
       "      <td>137.000000</td>\n",
       "      <td>0.320000</td>\n",
       "      <td>12000.00000</td>\n",
       "      <td>371.580000</td>\n",
       "      <td>35.000000</td>\n",
       "    </tr>\n",
       "    <tr>\n",
       "      <th>max</th>\n",
       "      <td>0.512290</td>\n",
       "      <td>0.497500</td>\n",
       "      <td>60.000000</td>\n",
       "      <td>755.000000</td>\n",
       "      <td>10.010000</td>\n",
       "      <td>35000.00000</td>\n",
       "      <td>2251.510000</td>\n",
       "      <td>136.000000</td>\n",
       "    </tr>\n",
       "  </tbody>\n",
       "</table>\n",
       "</div>"
      ],
      "text/plain": [
       "         BorrowerAPR   BorrowerRate           Term  EmploymentStatusDuration  \\\n",
       "count  113912.000000  113937.000000  113937.000000  106312.000000              \n",
       "mean   0.218828       0.192764       40.830248      96.071582                  \n",
       "std    0.080364       0.074818       10.436212      94.480605                  \n",
       "min    0.006530       0.000000       12.000000      0.000000                   \n",
       "25%    0.156290       0.134000       36.000000      26.000000                  \n",
       "50%    0.209760       0.184000       36.000000      67.000000                  \n",
       "75%    0.283810       0.250000       36.000000      137.000000                 \n",
       "max    0.512290       0.497500       60.000000      755.000000                 \n",
       "\n",
       "       DebtToIncomeRatio  LoanOriginalAmount  MonthlyLoanPayment  \\\n",
       "count  105383.000000      113937.00000        113937.000000        \n",
       "mean   0.275947           8337.01385          272.475783           \n",
       "std    0.551759           6245.80058          192.697812           \n",
       "min    0.000000           1000.00000          0.000000             \n",
       "25%    0.140000           4000.00000          131.620000           \n",
       "50%    0.220000           6500.00000          217.740000           \n",
       "75%    0.320000           12000.00000         371.580000           \n",
       "max    10.010000          35000.00000         2251.510000          \n",
       "\n",
       "       TotalCreditLinespast7years  \n",
       "count  113240.000000               \n",
       "mean   26.754539                   \n",
       "std    13.637871                   \n",
       "min    2.000000                    \n",
       "25%    17.000000                   \n",
       "50%    25.000000                   \n",
       "75%    35.000000                   \n",
       "max    136.000000                  "
      ]
     },
     "execution_count": 227,
     "metadata": {},
     "output_type": "execute_result"
    }
   ],
   "source": [
    "df_subset.describe()"
   ]
  },
  {
   "cell_type": "code",
   "execution_count": 228,
   "metadata": {},
   "outputs": [
    {
     "data": {
      "text/plain": [
       "array(['C', nan, 'HR', 'AA', 'D', 'B', 'E', 'A', 'NC'], dtype=object)"
      ]
     },
     "execution_count": 228,
     "metadata": {},
     "output_type": "execute_result"
    }
   ],
   "source": [
    "df_subset.CreditGrade.unique()"
   ]
  },
  {
   "cell_type": "code",
   "execution_count": 229,
   "metadata": {},
   "outputs": [
    {
     "data": {
      "text/plain": [
       "array([36, 60, 12])"
      ]
     },
     "execution_count": 229,
     "metadata": {},
     "output_type": "execute_result"
    }
   ],
   "source": [
    "df_subset.Term.unique()"
   ]
  },
  {
   "cell_type": "code",
   "execution_count": 230,
   "metadata": {},
   "outputs": [
    {
     "data": {
      "text/plain": [
       "array(['Self-employed', 'Employed', 'Not available', 'Full-time', 'Other',\n",
       "       nan, 'Not employed', 'Part-time', 'Retired'], dtype=object)"
      ]
     },
     "execution_count": 230,
     "metadata": {},
     "output_type": "execute_result"
    }
   ],
   "source": [
    "df_subset.EmploymentStatus.unique()"
   ]
  },
  {
   "cell_type": "code",
   "execution_count": 231,
   "metadata": {},
   "outputs": [
    {
     "data": {
      "text/plain": [
       "array([ True, False])"
      ]
     },
     "execution_count": 231,
     "metadata": {},
     "output_type": "execute_result"
    }
   ],
   "source": [
    "df_subset.IsBorrowerHomeowner.unique()"
   ]
  },
  {
   "cell_type": "code",
   "execution_count": 232,
   "metadata": {},
   "outputs": [
    {
     "data": {
      "text/plain": [
       "(0.0, 10.01)"
      ]
     },
     "execution_count": 232,
     "metadata": {},
     "output_type": "execute_result"
    }
   ],
   "source": [
    "df_subset.DebtToIncomeRatio.min(), df_subset.DebtToIncomeRatio.max()"
   ]
  },
  {
   "cell_type": "code",
   "execution_count": 233,
   "metadata": {},
   "outputs": [
    {
     "data": {
      "text/plain": [
       "array(['$25,000-49,999', '$50,000-74,999', 'Not displayed', '$100,000+',\n",
       "       '$75,000-99,999', '$1-24,999', 'Not employed', '$0'], dtype=object)"
      ]
     },
     "execution_count": 233,
     "metadata": {},
     "output_type": "execute_result"
    }
   ],
   "source": [
    "df_subset.IncomeRange.unique()"
   ]
  },
  {
   "cell_type": "code",
   "execution_count": 234,
   "metadata": {},
   "outputs": [
    {
     "data": {
      "text/plain": [
       "array([ True, False])"
      ]
     },
     "execution_count": 234,
     "metadata": {},
     "output_type": "execute_result"
    }
   ],
   "source": [
    "df_subset.IncomeVerifiable.unique()"
   ]
  },
  {
   "cell_type": "code",
   "execution_count": 235,
   "metadata": {},
   "outputs": [
    {
     "data": {
      "text/plain": [
       "(1000, 35000)"
      ]
     },
     "execution_count": 235,
     "metadata": {},
     "output_type": "execute_result"
    }
   ],
   "source": [
    "df_subset.LoanOriginalAmount.min(), df_subset.LoanOriginalAmount.max()"
   ]
  },
  {
   "cell_type": "code",
   "execution_count": 236,
   "metadata": {},
   "outputs": [
    {
     "data": {
      "text/plain": [
       "(0.0, 2251.51)"
      ]
     },
     "execution_count": 236,
     "metadata": {},
     "output_type": "execute_result"
    }
   ],
   "source": [
    "df_subset.MonthlyLoanPayment.min(), df_subset.MonthlyLoanPayment.max()"
   ]
  },
  {
   "cell_type": "code",
   "execution_count": 237,
   "metadata": {},
   "outputs": [
    {
     "data": {
      "text/plain": [
       "(2.0, 136.0)"
      ]
     },
     "execution_count": 237,
     "metadata": {},
     "output_type": "execute_result"
    }
   ],
   "source": [
    "df_subset.TotalCreditLinespast7years.min(), df_subset.TotalCreditLinespast7years.max()"
   ]
  },
  {
   "cell_type": "markdown",
   "metadata": {},
   "source": [
    "#### Cleaning:\n",
    "**Define:** \n",
    "\n",
    "- change EmploymentStatus from nan to 'Not Available'\n",
    "- change IncomeRange from Not Employed to $0 \n",
    "- TotalCreditLinespast7years type is float, change to integer\n",
    "\n",
    "**Code:**"
   ]
  },
  {
   "cell_type": "code",
   "execution_count": 238,
   "metadata": {},
   "outputs": [],
   "source": [
    "df_subset.EmploymentStatus.fillna(value = 'Not available', inplace = True)"
   ]
  },
  {
   "cell_type": "code",
   "execution_count": 239,
   "metadata": {},
   "outputs": [],
   "source": [
    "df_subset.IncomeRange.replace('Not employed', '$0', inplace = True)"
   ]
  },
  {
   "cell_type": "code",
   "execution_count": 240,
   "metadata": {},
   "outputs": [],
   "source": [
    "df_subset.TotalCreditLinespast7years = df_subset.TotalCreditLinespast7years.astype('Int64')"
   ]
  },
  {
   "cell_type": "markdown",
   "metadata": {},
   "source": [
    "#### Test"
   ]
  },
  {
   "cell_type": "code",
   "execution_count": 241,
   "metadata": {},
   "outputs": [
    {
     "data": {
      "text/plain": [
       "array(['Self-employed', 'Employed', 'Not available', 'Full-time', 'Other',\n",
       "       'Not employed', 'Part-time', 'Retired'], dtype=object)"
      ]
     },
     "execution_count": 241,
     "metadata": {},
     "output_type": "execute_result"
    }
   ],
   "source": [
    "df_subset.EmploymentStatus.unique()"
   ]
  },
  {
   "cell_type": "code",
   "execution_count": 242,
   "metadata": {},
   "outputs": [
    {
     "data": {
      "text/plain": [
       "array(['$25,000-49,999', '$50,000-74,999', 'Not displayed', '$100,000+',\n",
       "       '$75,000-99,999', '$1-24,999', '$0'], dtype=object)"
      ]
     },
     "execution_count": 242,
     "metadata": {},
     "output_type": "execute_result"
    }
   ],
   "source": [
    "df_subset.IncomeRange.unique()"
   ]
  },
  {
   "cell_type": "code",
   "execution_count": 243,
   "metadata": {},
   "outputs": [
    {
     "data": {
      "text/plain": [
       "LoanStatus                    object \n",
       "BorrowerAPR                   float64\n",
       "BorrowerRate                  float64\n",
       "Term                          int64  \n",
       "CreditGrade                   object \n",
       "EmploymentStatus              object \n",
       "EmploymentStatusDuration      float64\n",
       "IsBorrowerHomeowner           bool   \n",
       "DebtToIncomeRatio             float64\n",
       "IncomeRange                   object \n",
       "IncomeVerifiable              bool   \n",
       "LoanOriginalAmount            int64  \n",
       "MonthlyLoanPayment            float64\n",
       "TotalCreditLinespast7years    Int64  \n",
       "dtype: object"
      ]
     },
     "execution_count": 243,
     "metadata": {},
     "output_type": "execute_result"
    }
   ],
   "source": [
    "df_subset.dtypes"
   ]
  },
  {
   "cell_type": "code",
   "execution_count": 244,
   "metadata": {},
   "outputs": [
    {
     "data": {
      "image/png": "[encoded data removed]",
      "text/plain": [
       "<Figure size 432x288 with 1 Axes>"
      ]
     },
     "metadata": {
      "needs_background": "light"
     },
     "output_type": "display_data"
    }
   ],
   "source": [
    "sns.countplot(df_subset['LoanStatus'], order = df_subset.LoanStatus.value_counts().index ,color = '0.5' )\n",
    "plt.xticks(rotation = 90);"
   ]
  },
  {
   "cell_type": "code",
   "execution_count": 245,
   "metadata": {},
   "outputs": [
    {
     "data": {
      "image/png": "[encoded data removed]",
      "text/plain": [
       "<Figure size 432x288 with 1 Axes>"
      ]
     },
     "metadata": {
      "needs_background": "light"
     },
     "output_type": "display_data"
    }
   ],
   "source": [
    "sns.distplot(df_subset['MonthlyLoanPayment'], bins = 30);"
   ]
  },
  {
   "cell_type": "code",
   "execution_count": 246,
   "metadata": {},
   "outputs": [
    {
     "data": {
      "image/png": "[encoded data removed]",
      "text/plain": [
       "<Figure size 432x288 with 2 Axes>"
      ]
     },
     "metadata": {
      "needs_background": "light"
     },
     "output_type": "display_data"
    }
   ],
   "source": [
    "# Cut the window in 2 parts\n",
    "f, (ax_box, ax_hist) = plt.subplots(2, sharex=True, gridspec_kw={\"height_ratios\": (.15, .85)})\n",
    " \n",
    "# Add a graph in each part\n",
    "sns.boxplot(df_subset[\"BorrowerRate\"], ax=ax_box)\n",
    "sns.distplot(df_subset[\"BorrowerRate\"], ax=ax_hist)\n",
    " \n",
    "# Remove x axis name for the boxplot\n",
    "ax_box.set(xlabel='');"
   ]
  },
  {
   "cell_type": "code",
   "execution_count": 247,
   "metadata": {},
   "outputs": [
    {
     "data": {
      "image/png": "[encoded data removed]",
      "text/plain": [
       "<Figure size 768.75x360 with 1 Axes>"
      ]
     },
     "metadata": {
      "needs_background": "light"
     },
     "output_type": "display_data"
    }
   ],
   "source": [
    "sns.lmplot('MonthlyLoanPayment','LoanOriginalAmount',data=df_subset, hue = 'Term', palette='coolwarm'\n",
    "           ,aspect=2);"
   ]
  },
  {
   "cell_type": "code",
   "execution_count": 248,
   "metadata": {},
   "outputs": [
    {
     "data": {
      "image/png": "[encoded data removed]",
      "text/plain": [
       "<Figure size 1440x720 with 1 Axes>"
      ]
     },
     "metadata": {
      "needs_background": "light"
     },
     "output_type": "display_data"
    }
   ],
   "source": [
    "sns.lmplot('MonthlyLoanPayment','LoanOriginalAmount',data=df_subset[df_subset['Term']==36], \n",
    "           palette='bright', aspect=2,height=10);"
   ]
  },
  {
   "cell_type": "code",
   "execution_count": 249,
   "metadata": {},
   "outputs": [
    {
     "data": {
      "text/html": [
       "<div>\n",
       "<style scoped>\n",
       "    .dataframe tbody tr th:only-of-type {\n",
       "        vertical-align: middle;\n",
       "    }\n",
       "\n",
       "    .dataframe tbody tr th {\n",
       "        vertical-align: top;\n",
       "    }\n",
       "\n",
       "    .dataframe thead th {\n",
       "        text-align: right;\n",
       "    }\n",
       "</style>\n",
       "<table border=\"1\" class=\"dataframe\">\n",
       "  <thead>\n",
       "    <tr style=\"text-align: right;\">\n",
       "      <th></th>\n",
       "      <th>BorrowerAPR</th>\n",
       "      <th>BorrowerRate</th>\n",
       "      <th>Term</th>\n",
       "      <th>EmploymentStatusDuration</th>\n",
       "      <th>DebtToIncomeRatio</th>\n",
       "      <th>LoanOriginalAmount</th>\n",
       "      <th>MonthlyLoanPayment</th>\n",
       "      <th>TotalCreditLinespast7years</th>\n",
       "    </tr>\n",
       "  </thead>\n",
       "  <tbody>\n",
       "    <tr>\n",
       "      <th>count</th>\n",
       "      <td>933.000000</td>\n",
       "      <td>935.000000</td>\n",
       "      <td>935.000000</td>\n",
       "      <td>817.000000</td>\n",
       "      <td>871.000000</td>\n",
       "      <td>935.000000</td>\n",
       "      <td>935.0</td>\n",
       "      <td>920.000000</td>\n",
       "    </tr>\n",
       "    <tr>\n",
       "      <th>mean</th>\n",
       "      <td>0.221402</td>\n",
       "      <td>0.194271</td>\n",
       "      <td>31.867380</td>\n",
       "      <td>79.569155</td>\n",
       "      <td>0.244110</td>\n",
       "      <td>3381.166845</td>\n",
       "      <td>0.0</td>\n",
       "      <td>23.716304</td>\n",
       "    </tr>\n",
       "    <tr>\n",
       "      <th>std</th>\n",
       "      <td>0.091723</td>\n",
       "      <td>0.087758</td>\n",
       "      <td>9.065994</td>\n",
       "      <td>82.110432</td>\n",
       "      <td>0.561586</td>\n",
       "      <td>3099.658144</td>\n",
       "      <td>0.0</td>\n",
       "      <td>13.654726</td>\n",
       "    </tr>\n",
       "    <tr>\n",
       "      <th>min</th>\n",
       "      <td>0.063270</td>\n",
       "      <td>0.050000</td>\n",
       "      <td>12.000000</td>\n",
       "      <td>0.000000</td>\n",
       "      <td>0.010000</td>\n",
       "      <td>1000.000000</td>\n",
       "      <td>0.0</td>\n",
       "      <td>2.000000</td>\n",
       "    </tr>\n",
       "    <tr>\n",
       "      <th>25%</th>\n",
       "      <td>0.154880</td>\n",
       "      <td>0.122400</td>\n",
       "      <td>36.000000</td>\n",
       "      <td>21.000000</td>\n",
       "      <td>0.100000</td>\n",
       "      <td>1500.000000</td>\n",
       "      <td>0.0</td>\n",
       "      <td>14.000000</td>\n",
       "    </tr>\n",
       "    <tr>\n",
       "      <th>50%</th>\n",
       "      <td>0.218570</td>\n",
       "      <td>0.187500</td>\n",
       "      <td>36.000000</td>\n",
       "      <td>51.000000</td>\n",
       "      <td>0.170000</td>\n",
       "      <td>2500.000000</td>\n",
       "      <td>0.0</td>\n",
       "      <td>21.000000</td>\n",
       "    </tr>\n",
       "    <tr>\n",
       "      <th>75%</th>\n",
       "      <td>0.297700</td>\n",
       "      <td>0.263500</td>\n",
       "      <td>36.000000</td>\n",
       "      <td>110.000000</td>\n",
       "      <td>0.280000</td>\n",
       "      <td>4000.000000</td>\n",
       "      <td>0.0</td>\n",
       "      <td>32.000000</td>\n",
       "    </tr>\n",
       "    <tr>\n",
       "      <th>max</th>\n",
       "      <td>0.413550</td>\n",
       "      <td>0.360000</td>\n",
       "      <td>36.000000</td>\n",
       "      <td>496.000000</td>\n",
       "      <td>10.010000</td>\n",
       "      <td>25000.000000</td>\n",
       "      <td>0.0</td>\n",
       "      <td>91.000000</td>\n",
       "    </tr>\n",
       "  </tbody>\n",
       "</table>\n",
       "</div>"
      ],
      "text/plain": [
       "       BorrowerAPR  BorrowerRate        Term  EmploymentStatusDuration  \\\n",
       "count  933.000000   935.000000    935.000000  817.000000                 \n",
       "mean   0.221402     0.194271      31.867380   79.569155                  \n",
       "std    0.091723     0.087758      9.065994    82.110432                  \n",
       "min    0.063270     0.050000      12.000000   0.000000                   \n",
       "25%    0.154880     0.122400      36.000000   21.000000                  \n",
       "50%    0.218570     0.187500      36.000000   51.000000                  \n",
       "75%    0.297700     0.263500      36.000000   110.000000                 \n",
       "max    0.413550     0.360000      36.000000   496.000000                 \n",
       "\n",
       "       DebtToIncomeRatio  LoanOriginalAmount  MonthlyLoanPayment  \\\n",
       "count  871.000000         935.000000          935.0                \n",
       "mean   0.244110           3381.166845         0.0                  \n",
       "std    0.561586           3099.658144         0.0                  \n",
       "min    0.010000           1000.000000         0.0                  \n",
       "25%    0.100000           1500.000000         0.0                  \n",
       "50%    0.170000           2500.000000         0.0                  \n",
       "75%    0.280000           4000.000000         0.0                  \n",
       "max    10.010000          25000.000000        0.0                  \n",
       "\n",
       "       TotalCreditLinespast7years  \n",
       "count  920.000000                  \n",
       "mean   23.716304                   \n",
       "std    13.654726                   \n",
       "min    2.000000                    \n",
       "25%    14.000000                   \n",
       "50%    21.000000                   \n",
       "75%    32.000000                   \n",
       "max    91.000000                   "
      ]
     },
     "execution_count": 249,
     "metadata": {},
     "output_type": "execute_result"
    }
   ],
   "source": [
    "df_subset[df_subset['MonthlyLoanPayment']==0].describe()"
   ]
  },
  {
   "cell_type": "code",
   "execution_count": 250,
   "metadata": {},
   "outputs": [
    {
     "data": {
      "image/png": "[encoded data removed]",
      "text/plain": [
       "<Figure size 432x288 with 1 Axes>"
      ]
     },
     "metadata": {
      "needs_background": "light"
     },
     "output_type": "display_data"
    }
   ],
   "source": [
    "sns.countplot(df_subset[df_subset['MonthlyLoanPayment']==0]['CreditGrade'],\n",
    "              order = df_subset[df_subset['MonthlyLoanPayment']==0]['CreditGrade'].value_counts().index, color = '0.5');"
   ]
  },
  {
   "cell_type": "code",
   "execution_count": 251,
   "metadata": {},
   "outputs": [
    {
     "data": {
      "image/png": "[encoded data removed]",
      "text/plain": [
       "<Figure size 432x288 with 1 Axes>"
      ]
     },
     "metadata": {
      "needs_background": "light"
     },
     "output_type": "display_data"
    }
   ],
   "source": [
    "sns.countplot(df_subset['CreditGrade'],\n",
    "              order = df_subset[df_subset['MonthlyLoanPayment']==0]['CreditGrade'].value_counts().index, color ='0' );"
   ]
  },
  {
   "cell_type": "code",
   "execution_count": 252,
   "metadata": {},
   "outputs": [
    {
     "data": {
      "text/plain": [
       "LoanStatus  CreditGrade\n",
       "Cancelled   HR             3   \n",
       "            A              1   \n",
       "            C              1   \n",
       "Chargedoff  D              1343\n",
       "            C              1310\n",
       "            HR             1242\n",
       "            E              946 \n",
       "            B              909 \n",
       "            A              526 \n",
       "            AA             339 \n",
       "            NC             35  \n",
       "Completed   C              3609\n",
       "            D              3126\n",
       "            B              2987\n",
       "            AA             2969\n",
       "            A              2505\n",
       "            E              1678\n",
       "            HR             1372\n",
       "            NC             42  \n",
       "Defaulted   HR             891 \n",
       "            C              729 \n",
       "            D              684 \n",
       "            E              665 \n",
       "            B              493 \n",
       "            A              283 \n",
       "            AA             201 \n",
       "            NC             64  \n",
       "Name: CreditGrade, dtype: int64"
      ]
     },
     "execution_count": 252,
     "metadata": {},
     "output_type": "execute_result"
    }
   ],
   "source": [
    "df_subset.groupby(['LoanStatus']) ['CreditGrade'].value_counts()"
   ]
  },
  {
   "cell_type": "code",
   "execution_count": 253,
   "metadata": {},
   "outputs": [
    {
     "data": {
      "text/plain": [
       "array([nan], dtype=object)"
      ]
     },
     "execution_count": 253,
     "metadata": {},
     "output_type": "execute_result"
    }
   ],
   "source": [
    "df_subset[df_subset.Term!=36].CreditGrade.unique()"
   ]
  },
  {
   "cell_type": "code",
   "execution_count": 254,
   "metadata": {},
   "outputs": [
    {
     "data": {
      "image/png": "[encoded data removed]",
      "text/plain": [
       "<Figure size 841.625x360 with 1 Axes>"
      ]
     },
     "metadata": {
      "needs_background": "light"
     },
     "output_type": "display_data"
    }
   ],
   "source": [
    "sns.lmplot('MonthlyLoanPayment','BorrowerRate',data=df_subset, hue = 'IsBorrowerHomeowner', palette='coolwarm'\n",
    "           ,aspect=2);"
   ]
  },
  {
   "cell_type": "code",
   "execution_count": 255,
   "metadata": {},
   "outputs": [
    {
     "data": {
      "image/png": "[encoded data removed]",
      "text/plain": [
       "<Figure size 841.625x360 with 1 Axes>"
      ]
     },
     "metadata": {
      "needs_background": "light"
     },
     "output_type": "display_data"
    }
   ],
   "source": [
    "sns.lmplot('BorrowerAPR','BorrowerRate',data=df_subset, hue = 'IsBorrowerHomeowner', palette='coolwarm'\n",
    "           ,aspect=2);"
   ]
  },
  {
   "cell_type": "code",
   "execution_count": 256,
   "metadata": {},
   "outputs": [
    {
     "name": "stdout",
     "output_type": "stream",
     "text": [
      "<class 'pandas.core.frame.DataFrame'>\n",
      "RangeIndex: 113937 entries, 0 to 113936\n",
      "Data columns (total 14 columns):\n",
      "LoanStatus                    113937 non-null object\n",
      "BorrowerAPR                   113912 non-null float64\n",
      "BorrowerRate                  113937 non-null float64\n",
      "Term                          113937 non-null int64\n",
      "CreditGrade                   28953 non-null object\n",
      "EmploymentStatus              113937 non-null object\n",
      "EmploymentStatusDuration      106312 non-null float64\n",
      "IsBorrowerHomeowner           113937 non-null bool\n",
      "DebtToIncomeRatio             105383 non-null float64\n",
      "IncomeRange                   113937 non-null object\n",
      "IncomeVerifiable              113937 non-null bool\n",
      "LoanOriginalAmount            113937 non-null int64\n",
      "MonthlyLoanPayment            113937 non-null float64\n",
      "TotalCreditLinespast7years    113240 non-null Int64\n",
      "dtypes: Int64(1), bool(2), float64(5), int64(2), object(4)\n",
      "memory usage: 10.8+ MB\n"
     ]
    }
   ],
   "source": [
    "df_subset.info()"
   ]
  },
  {
   "cell_type": "code",
   "execution_count": 257,
   "metadata": {},
   "outputs": [],
   "source": [
    "df_feature = df_loan.copy()"
   ]
  },
  {
   "cell_type": "code",
   "execution_count": 258,
   "metadata": {},
   "outputs": [],
   "source": [
    "df_feature['intercept']=1"
   ]
  },
  {
   "cell_type": "code",
   "execution_count": 259,
   "metadata": {},
   "outputs": [
    {
     "data": {
      "text/plain": [
       "['ListingKey',\n",
       " 'ListingNumber',\n",
       " 'ListingCreationDate',\n",
       " 'CreditGrade',\n",
       " 'Term',\n",
       " 'LoanStatus',\n",
       " 'ClosedDate',\n",
       " 'BorrowerAPR',\n",
       " 'BorrowerRate',\n",
       " 'LenderYield',\n",
       " 'EstimatedEffectiveYield',\n",
       " 'EstimatedLoss',\n",
       " 'EstimatedReturn',\n",
       " 'ProsperRating (numeric)',\n",
       " 'ProsperRating (Alpha)',\n",
       " 'ProsperScore',\n",
       " 'ListingCategory (numeric)',\n",
       " 'BorrowerState',\n",
       " 'Occupation',\n",
       " 'EmploymentStatus',\n",
       " 'EmploymentStatusDuration',\n",
       " 'IsBorrowerHomeowner',\n",
       " 'CurrentlyInGroup',\n",
       " 'GroupKey',\n",
       " 'DateCreditPulled',\n",
       " 'CreditScoreRangeLower',\n",
       " 'CreditScoreRangeUpper',\n",
       " 'FirstRecordedCreditLine',\n",
       " 'CurrentCreditLines',\n",
       " 'OpenCreditLines',\n",
       " 'TotalCreditLinespast7years',\n",
       " 'OpenRevolvingAccounts',\n",
       " 'OpenRevolvingMonthlyPayment',\n",
       " 'InquiriesLast6Months',\n",
       " 'TotalInquiries',\n",
       " 'CurrentDelinquencies',\n",
       " 'AmountDelinquent',\n",
       " 'DelinquenciesLast7Years',\n",
       " 'PublicRecordsLast10Years',\n",
       " 'PublicRecordsLast12Months',\n",
       " 'RevolvingCreditBalance',\n",
       " 'BankcardUtilization',\n",
       " 'AvailableBankcardCredit',\n",
       " 'TotalTrades',\n",
       " 'TradesNeverDelinquent (percentage)',\n",
       " 'TradesOpenedLast6Months',\n",
       " 'DebtToIncomeRatio',\n",
       " 'IncomeRange',\n",
       " 'IncomeVerifiable',\n",
       " 'StatedMonthlyIncome',\n",
       " 'LoanKey',\n",
       " 'TotalProsperLoans',\n",
       " 'TotalProsperPaymentsBilled',\n",
       " 'OnTimeProsperPayments',\n",
       " 'ProsperPaymentsLessThanOneMonthLate',\n",
       " 'ProsperPaymentsOneMonthPlusLate',\n",
       " 'ProsperPrincipalBorrowed',\n",
       " 'ProsperPrincipalOutstanding',\n",
       " 'ScorexChangeAtTimeOfListing',\n",
       " 'LoanCurrentDaysDelinquent',\n",
       " 'LoanFirstDefaultedCycleNumber',\n",
       " 'LoanMonthsSinceOrigination',\n",
       " 'LoanNumber',\n",
       " 'LoanOriginalAmount',\n",
       " 'LoanOriginationDate',\n",
       " 'LoanOriginationQuarter',\n",
       " 'MemberKey',\n",
       " 'MonthlyLoanPayment',\n",
       " 'LP_CustomerPayments',\n",
       " 'LP_CustomerPrincipalPayments',\n",
       " 'LP_InterestandFees',\n",
       " 'LP_ServiceFees',\n",
       " 'LP_CollectionFees',\n",
       " 'LP_GrossPrincipalLoss',\n",
       " 'LP_NetPrincipalLoss',\n",
       " 'LP_NonPrincipalRecoverypayments',\n",
       " 'PercentFunded',\n",
       " 'Recommendations',\n",
       " 'InvestmentFromFriendsCount',\n",
       " 'InvestmentFromFriendsAmount',\n",
       " 'Investors',\n",
       " 'intercept']"
      ]
     },
     "execution_count": 259,
     "metadata": {},
     "output_type": "execute_result"
    }
   ],
   "source": [
    "list(df_feature)"
   ]
  },
  {
   "cell_type": "code",
   "execution_count": 260,
   "metadata": {},
   "outputs": [],
   "source": [
    "df_feature['intercept']=1\n",
    "float_list = [\n",
    " 'BorrowerRate',\n",
    " 'LenderYield',\n",
    " 'EstimatedEffectiveYield',\n",
    " 'EstimatedLoss',\n",
    " 'EstimatedReturn',\n",
    " 'ProsperRating (numeric)',\n",
    " 'ProsperScore',\n",
    " 'EmploymentStatusDuration',\n",
    " 'CreditScoreRangeLower',\n",
    " 'CreditScoreRangeUpper',\n",
    " 'CurrentCreditLines',\n",
    " 'OpenCreditLines',\n",
    " 'TotalCreditLinespast7years',\n",
    " 'OpenRevolvingAccounts',\n",
    " 'OpenRevolvingMonthlyPayment',\n",
    " 'InquiriesLast6Months',\n",
    " 'TotalInquiries',\n",
    " 'CurrentDelinquencies',\n",
    " 'AmountDelinquent',\n",
    " 'DelinquenciesLast7Years',\n",
    " 'PublicRecordsLast10Years',\n",
    " 'PublicRecordsLast12Months',\n",
    " 'RevolvingCreditBalance',\n",
    " 'BankcardUtilization',\n",
    " 'AvailableBankcardCredit',\n",
    " 'TotalTrades',\n",
    " 'TradesNeverDelinquent (percentage)',\n",
    " 'TradesOpenedLast6Months',\n",
    " 'DebtToIncomeRatio',\n",
    " 'StatedMonthlyIncome',\n",
    " 'LoanCurrentDaysDelinquent',\n",
    " 'LoanMonthsSinceOrigination',\n",
    " 'LoanOriginalAmount',\n",
    " 'MonthlyLoanPayment',\n",
    " 'LP_CustomerPayments',\n",
    " 'LP_CustomerPrincipalPayments',\n",
    " 'LP_InterestandFees',\n",
    " 'LP_ServiceFees',\n",
    " 'LP_CollectionFees',\n",
    " 'LP_GrossPrincipalLoss',\n",
    " 'LP_NetPrincipalLoss',\n",
    " 'LP_NonPrincipalRecoverypayments',\n",
    " 'PercentFunded',\n",
    " 'InvestmentFromFriendsAmount',\n",
    " 'Investors',\n",
    " 'intercept']\n",
    "df_feature.dropna(subset = float_list , inplace=True)\n"
   ]
  },
  {
   "cell_type": "code",
   "execution_count": 262,
   "metadata": {},
   "outputs": [],
   "source": [
    "\n",
    "df_feature.dropna(subset = float_list, inplace=True)"
   ]
  },
  {
   "cell_type": "code",
   "execution_count": 265,
   "metadata": {},
   "outputs": [],
   "source": [
    "log_m = sm.OLS(df_feature['BorrowerAPR'], df_feature[float_list])\n",
    "log_results= log_m.fit()"
   ]
  },
  {
   "cell_type": "code",
   "execution_count": 266,
   "metadata": {},
   "outputs": [
    {
     "name": "stdout",
     "output_type": "stream",
     "text": [
      "                            OLS Regression Results                            \n",
      "==============================================================================\n",
      "Dep. Variable:            BorrowerAPR   R-squared:                       0.993\n",
      "Model:                            OLS   Adj. R-squared:                  0.993\n",
      "Method:                 Least Squares   F-statistic:                 2.584e+05\n",
      "Date:                Mon, 01 Jul 2019   Prob (F-statistic):               0.00\n",
      "Time:                        15:32:19   Log-Likelihood:             2.7944e+05\n",
      "No. Observations:               77543   AIC:                        -5.588e+05\n",
      "Df Residuals:                   77499   BIC:                        -5.584e+05\n",
      "Df Model:                          43                                         \n",
      "Covariance Type:            nonrobust                                         \n",
      "======================================================================================================\n",
      "                                         coef    std err          t      P>|t|      [0.025      0.975]\n",
      "------------------------------------------------------------------------------------------------------\n",
      "BorrowerRate                           1.0715      0.110      9.733      0.000       0.856       1.287\n",
      "LenderYield                           -0.8102      0.111     -7.326      0.000      -1.027      -0.593\n",
      "EstimatedEffectiveYield                0.0161      0.001     15.201      0.000       0.014       0.018\n",
      "EstimatedLoss                          0.6958      0.009     75.994      0.000       0.678       0.714\n",
      "EstimatedReturn                        0.6843      0.009     78.424      0.000       0.667       0.701\n",
      "ProsperRating (numeric)               -0.0065   7.11e-05    -91.437      0.000      -0.007      -0.006\n",
      "ProsperScore                          -0.0004   1.74e-05    -21.109      0.000      -0.000      -0.000\n",
      "EmploymentStatusDuration             1.66e-07   2.53e-07      0.656      0.512    -3.3e-07    6.62e-07\n",
      "CreditScoreRangeLower                 -0.0041   9.36e-05    -43.938      0.000      -0.004      -0.004\n",
      "CreditScoreRangeUpper                  0.0041   9.34e-05     43.927      0.000       0.004       0.004\n",
      "CurrentCreditLines                  5.738e-05   1.79e-05      3.205      0.001    2.23e-05    9.25e-05\n",
      "OpenCreditLines                       -0.0001   2.03e-05     -5.594      0.000      -0.000   -7.37e-05\n",
      "TotalCreditLinespast7years          -1.66e-06    5.3e-06     -0.313      0.754   -1.21e-05    8.73e-06\n",
      "OpenRevolvingAccounts               6.545e-05   1.18e-05      5.538      0.000    4.23e-05    8.86e-05\n",
      "OpenRevolvingMonthlyPayment         7.737e-07   1.06e-07      7.292      0.000    5.66e-07    9.82e-07\n",
      "InquiriesLast6Months                7.123e-05   2.26e-05      3.155      0.002     2.7e-05       0.000\n",
      "TotalInquiries                     -4.449e-05   7.92e-06     -5.620      0.000      -6e-05    -2.9e-05\n",
      "CurrentDelinquencies                   0.0002   2.42e-05      6.217      0.000       0.000       0.000\n",
      "AmountDelinquent                    7.488e-09   3.46e-09      2.162      0.031    7.01e-10    1.43e-08\n",
      "DelinquenciesLast7Years            -2.315e-06   3.17e-06     -0.731      0.465   -8.52e-06    3.89e-06\n",
      "PublicRecordsLast10Years            6.289e-06    4.1e-05      0.153      0.878   -7.41e-05    8.66e-05\n",
      "PublicRecordsLast12Months              0.0002      0.000      0.692      0.489      -0.000       0.001\n",
      "RevolvingCreditBalance             -2.602e-09   1.19e-09     -2.189      0.029   -4.93e-09   -2.72e-10\n",
      "BankcardUtilization                   -0.0002      0.000     -1.793      0.073      -0.000    1.79e-05\n",
      "AvailableBankcardCredit            -2.458e-08   1.77e-09    -13.866      0.000   -2.81e-08   -2.11e-08\n",
      "TotalTrades                        -2.259e-06   6.41e-06     -0.352      0.725   -1.48e-05    1.03e-05\n",
      "TradesNeverDelinquent (percentage)    -0.0023      0.000     -8.748      0.000      -0.003      -0.002\n",
      "TradesOpenedLast6Months            -4.346e-05   2.67e-05     -1.627      0.104   -9.58e-05    8.88e-06\n",
      "DebtToIncomeRatio                      0.0001   7.83e-05      1.798      0.072   -1.27e-05       0.000\n",
      "StatedMonthlyIncome                 6.745e-09   5.38e-09      1.254      0.210   -3.79e-09    1.73e-08\n",
      "LoanCurrentDaysDelinquent          -1.168e-06   2.23e-07     -5.235      0.000   -1.61e-06   -7.31e-07\n",
      "LoanMonthsSinceOrigination            -0.0002   3.77e-06    -50.362      0.000      -0.000      -0.000\n",
      "LoanOriginalAmount                 -1.692e-06   1.15e-08   -147.624      0.000   -1.71e-06   -1.67e-06\n",
      "MonthlyLoanPayment                  5.306e-05    3.5e-07    151.499      0.000    5.24e-05    5.37e-05\n",
      "LP_CustomerPayments                -7.195e-07   2.27e-08    -31.702      0.000   -7.64e-07   -6.75e-07\n",
      "LP_CustomerPrincipalPayments        6.118e-07   2.19e-08     27.896      0.000    5.69e-07    6.55e-07\n",
      "LP_InterestandFees                 -1.332e-06   4.37e-08    -30.496      0.000   -1.42e-06   -1.25e-06\n",
      "LP_ServiceFees                     -3.789e-05   1.26e-06    -30.024      0.000   -4.04e-05   -3.54e-05\n",
      "LP_CollectionFees                  -1.986e-06   5.05e-07     -3.937      0.000   -2.98e-06   -9.97e-07\n",
      "LP_GrossPrincipalLoss              -3.407e-07   1.65e-07     -2.059      0.040   -6.65e-07   -1.64e-08\n",
      "LP_NetPrincipalLoss                 2.456e-07   1.66e-07      1.483      0.138   -7.91e-08     5.7e-07\n",
      "LP_NonPrincipalRecoverypayments    -1.417e-06    2.8e-07     -5.058      0.000   -1.97e-06   -8.68e-07\n",
      "PercentFunded                          0.0063      0.001      5.335      0.000       0.004       0.009\n",
      "InvestmentFromFriendsAmount        -1.158e-06   2.13e-07     -5.444      0.000   -1.58e-06   -7.41e-07\n",
      "Investors                          -3.904e-06   3.24e-07    -12.035      0.000   -4.54e-06   -3.27e-06\n",
      "intercept                              0.0004   9.84e-06     43.933      0.000       0.000       0.000\n",
      "==============================================================================\n",
      "Omnibus:                    41323.196   Durbin-Watson:                   1.998\n",
      "Prob(Omnibus):                  0.000   Jarque-Bera (JB):          1013407.655\n",
      "Skew:                           2.062   Prob(JB):                         0.00\n",
      "Kurtosis:                      20.223   Cond. No.                     1.27e+16\n",
      "==============================================================================\n",
      "\n",
      "Warnings:\n",
      "[1] Standard Errors assume that the covariance matrix of the errors is correctly specified.\n",
      "[2] The smallest eigenvalue is 6.91e-19. This might indicate that there are\n",
      "strong multicollinearity problems or that the design matrix is singular.\n"
     ]
    }
   ],
   "source": [
    "print(log_results.summary())"
   ]
  },
  {
   "cell_type": "code",
   "execution_count": 267,
   "metadata": {},
   "outputs": [],
   "source": [
    "categories_list = [\n",
    " 'CreditGrade',\n",
    " 'Term',\n",
    " 'LoanStatus',\n",
    " 'ProsperRating (Alpha)',\n",
    " 'ListingCategory (numeric)',\n",
    " 'BorrowerState',\n",
    " 'Occupation',\n",
    " 'EmploymentStatus',\n",
    " 'IsBorrowerHomeowner',\n",
    " 'CurrentlyInGroup',\n",
    " 'FirstRecordedCreditLine',\n",
    " 'OpenRevolvingAccounts',\n",
    " 'IncomeRange',\n",
    " 'IncomeVerifiable',\n",
    " 'LoanCurrentDaysDelinquent',\n",
    " 'LoanOriginationQuarter',\n",
    " 'Recommendations',\n",
    " 'InvestmentFromFriendsCount',\n",
    " 'intercept']\n"
   ]
  },
  {
   "cell_type": "code",
   "execution_count": null,
   "metadata": {},
   "outputs": [],
   "source": [
    "df_feature.dropna(subset = float_list , inplace=True)\n",
    "\n"
   ]
  }
 ],
 "metadata": {
  "kernelspec": {
   "display_name": "Python 3",
   "language": "python",
   "name": "python3"
  },
  "language_info": {
   "codemirror_mode": {
    "name": "ipython",
    "version": 3
   },
   "file_extension": ".py",
   "mimetype": "text/x-python",
   "name": "python",
   "nbconvert_exporter": "python",
   "pygments_lexer": "ipython3",
   "version": "3.6.7"
  }
 },
 "nbformat": 4,
 "nbformat_minor": 2
}
